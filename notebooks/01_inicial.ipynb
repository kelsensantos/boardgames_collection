{
 "cells": [
  {
   "cell_type": "markdown",
   "id": "f7956007",
   "metadata": {},
   "source": [
    "# Imports"
   ]
  },
  {
   "cell_type": "code",
   "execution_count": 1,
   "id": "ff1e3a4a",
   "metadata": {
    "ExecuteTime": {
     "end_time": "2021-08-19T00:40:02.662697Z",
     "start_time": "2021-08-19T00:40:02.242335Z"
    }
   },
   "outputs": [],
   "source": [
    "import pandas as pd\n",
    "import json\n",
    "from decouple import config"
   ]
  },
  {
   "cell_type": "code",
   "execution_count": 2,
   "id": "7bc9bbcc",
   "metadata": {
    "ExecuteTime": {
     "end_time": "2021-08-19T00:40:02.896132Z",
     "start_time": "2021-08-19T00:40:02.663792Z"
    }
   },
   "outputs": [
    {
     "ename": "ModuleNotFoundError",
     "evalue": "No module named 'ludopedia_wrapper'",
     "output_type": "error",
     "traceback": [
      "\u001b[0;31m---------------------------------------------------------------------------\u001b[0m",
      "\u001b[0;31mModuleNotFoundError\u001b[0m                       Traceback (most recent call last)",
      "\u001b[0;32m<ipython-input-2-adec7345632a>\u001b[0m in \u001b[0;36m<module>\u001b[0;34m\u001b[0m\n\u001b[1;32m      1\u001b[0m \u001b[0;32mfrom\u001b[0m \u001b[0mfixpath\u001b[0m \u001b[0;32mimport\u001b[0m \u001b[0;34m*\u001b[0m\u001b[0;34m\u001b[0m\u001b[0;34m\u001b[0m\u001b[0m\n\u001b[1;32m      2\u001b[0m \u001b[0;32mfrom\u001b[0m \u001b[0msubmodules\u001b[0m\u001b[0;34m.\u001b[0m\u001b[0mludopedia_wrapper\u001b[0m\u001b[0;34m.\u001b[0m\u001b[0mConnection\u001b[0m \u001b[0;32mimport\u001b[0m \u001b[0mConnection\u001b[0m\u001b[0;34m\u001b[0m\u001b[0;34m\u001b[0m\u001b[0m\n\u001b[0;32m----> 3\u001b[0;31m \u001b[0;32mfrom\u001b[0m \u001b[0msubmodules\u001b[0m\u001b[0;34m.\u001b[0m\u001b[0mludopedia_wrapper\u001b[0m\u001b[0;34m.\u001b[0m\u001b[0mCollection\u001b[0m \u001b[0;32mimport\u001b[0m \u001b[0;34m*\u001b[0m\u001b[0;34m\u001b[0m\u001b[0;34m\u001b[0m\u001b[0m\n\u001b[0m\u001b[1;32m      4\u001b[0m \u001b[0;32mfrom\u001b[0m \u001b[0msubmodules\u001b[0m\u001b[0;34m.\u001b[0m\u001b[0mludopedia_wrapper\u001b[0m\u001b[0;34m.\u001b[0m\u001b[0mLudopedia_API\u001b[0m \u001b[0;32mimport\u001b[0m \u001b[0mLudopedia\u001b[0m\u001b[0;34m\u001b[0m\u001b[0;34m\u001b[0m\u001b[0m\n",
      "\u001b[0;32m~/OneDrive/Coder/boardgames_collection/submodules/ludopedia_wrapper/Collection.py\u001b[0m in \u001b[0;36m<module>\u001b[0;34m\u001b[0m\n\u001b[1;32m      3\u001b[0m \u001b[0;32mimport\u001b[0m \u001b[0mjson\u001b[0m\u001b[0;34m\u001b[0m\u001b[0;34m\u001b[0m\u001b[0m\n\u001b[1;32m      4\u001b[0m \u001b[0;31m# from requests.api import get\u001b[0m\u001b[0;34m\u001b[0m\u001b[0;34m\u001b[0m\u001b[0;34m\u001b[0m\u001b[0m\n\u001b[0;32m----> 5\u001b[0;31m \u001b[0;32mfrom\u001b[0m \u001b[0mludopedia_wrapper\u001b[0m\u001b[0;34m.\u001b[0m\u001b[0mConnection\u001b[0m \u001b[0;32mimport\u001b[0m \u001b[0mConnection\u001b[0m\u001b[0;34m\u001b[0m\u001b[0;34m\u001b[0m\u001b[0m\n\u001b[0m\u001b[1;32m      6\u001b[0m \u001b[0;34m\u001b[0m\u001b[0m\n\u001b[1;32m      7\u001b[0m \u001b[0;34m\u001b[0m\u001b[0m\n",
      "\u001b[0;31mModuleNotFoundError\u001b[0m: No module named 'ludopedia_wrapper'"
     ]
    }
   ],
   "source": [
    "from fixpath import *\n",
    "from submodules.ludopedia_wrapper.Connection import Connection\n",
    "from submodules.ludopedia_wrapper.Collection import *\n",
    "from submodules.ludopedia_wrapper.Ludopedia_API import Ludopedia"
   ]
  },
  {
   "cell_type": "markdown",
   "id": "8cbf50f2",
   "metadata": {
    "hide_input": false
   },
   "source": [
    "# Tentativa de conexão com API"
   ]
  },
  {
   "cell_type": "markdown",
   "id": "c6a6d6a9",
   "metadata": {
    "heading_collapsed": true
   },
   "source": [
    "## Config json path"
   ]
  },
  {
   "cell_type": "code",
   "execution_count": null,
   "id": "2c18613a",
   "metadata": {
    "ExecuteTime": {
     "end_time": "2021-08-19T00:40:02.900423Z",
     "start_time": "2021-08-19T00:40:02.246Z"
    },
    "hidden": true
   },
   "outputs": [],
   "source": [
    "json_path = config('APP_CONF_PATH')"
   ]
  },
  {
   "cell_type": "code",
   "execution_count": null,
   "id": "4f516ae5",
   "metadata": {
    "ExecuteTime": {
     "end_time": "2021-08-19T00:40:02.901067Z",
     "start_time": "2021-08-19T00:40:02.249Z"
    },
    "hidden": true
   },
   "outputs": [],
   "source": [
    "conn = Connection()"
   ]
  },
  {
   "cell_type": "markdown",
   "id": "dc04fd05",
   "metadata": {
    "heading_collapsed": true
   },
   "source": [
    "## Buscar jogos "
   ]
  },
  {
   "cell_type": "code",
   "execution_count": null,
   "id": "9fa726fc",
   "metadata": {
    "ExecuteTime": {
     "end_time": "2021-08-19T00:40:02.901640Z",
     "start_time": "2021-08-19T00:40:02.251Z"
    },
    "hidden": true
   },
   "outputs": [],
   "source": [
    "con = Connection()"
   ]
  },
  {
   "cell_type": "code",
   "execution_count": null,
   "id": "25b8d7b0",
   "metadata": {
    "ExecuteTime": {
     "end_time": "2021-08-19T00:40:02.902287Z",
     "start_time": "2021-08-19T00:40:02.254Z"
    },
    "hidden": true
   },
   "outputs": [],
   "source": [
    "get_collection(con)"
   ]
  },
  {
   "cell_type": "markdown",
   "id": "ad3e79c9",
   "metadata": {},
   "source": [
    "## Construir nova classe Ludopedia"
   ]
  },
  {
   "cell_type": "markdown",
   "id": "ddb9866c",
   "metadata": {
    "heading_collapsed": true
   },
   "source": [
    "### função para montar url"
   ]
  },
  {
   "cell_type": "code",
   "execution_count": null,
   "id": "59d9d356",
   "metadata": {
    "ExecuteTime": {
     "end_time": "2021-08-19T00:40:02.902872Z",
     "start_time": "2021-08-19T00:40:02.256Z"
    },
    "hidden": true
   },
   "outputs": [],
   "source": [
    "def teste(**kwargs):\n",
    "    url = 'www.xxx.xxx/xxx'\n",
    "    url = teste2(url, **kwargs)\n",
    "    print(url)\n",
    "    \n",
    "def teste2(url, **kwargs):\n",
    "    first = True \n",
    "    for item in kwargs.keys():\n",
    "        complemento = kwargs.get(item)\n",
    "        if first:\n",
    "            url = url + '?' + item + '=' + complemento\n",
    "        else:\n",
    "            url = url + '&' + item + '='  + complemento \n",
    "        first = False\n",
    "    return url"
   ]
  },
  {
   "cell_type": "code",
   "execution_count": null,
   "id": "2a322f78",
   "metadata": {
    "ExecuteTime": {
     "end_time": "2021-08-19T00:40:02.903491Z",
     "start_time": "2021-08-19T00:40:02.258Z"
    },
    "hidden": true
   },
   "outputs": [],
   "source": [
    "teste(at1='a', at2='b')"
   ]
  },
  {
   "cell_type": "markdown",
   "id": "b9ab7046",
   "metadata": {
    "heading_collapsed": true
   },
   "source": [
    "### testando"
   ]
  },
  {
   "cell_type": "code",
   "execution_count": null,
   "id": "37780907",
   "metadata": {
    "ExecuteTime": {
     "end_time": "2021-08-19T00:40:02.904038Z",
     "start_time": "2021-08-19T00:40:02.259Z"
    },
    "hidden": true
   },
   "outputs": [],
   "source": [
    "ludo = Ludopedia()"
   ]
  },
  {
   "cell_type": "code",
   "execution_count": null,
   "id": "6440d012",
   "metadata": {
    "ExecuteTime": {
     "end_time": "2021-08-19T00:40:02.904754Z",
     "start_time": "2021-08-19T00:40:02.262Z"
    },
    "hidden": true
   },
   "outputs": [],
   "source": [
    "ludo.get_endpoint('https://ludopedia.com.br/api/v1/colecao?lista=colegao', page='2')"
   ]
  },
  {
   "cell_type": "markdown",
   "id": "e02d7af1",
   "metadata": {},
   "source": [
    "### buscar todos os jogos"
   ]
  },
  {
   "cell_type": "code",
   "execution_count": null,
   "id": "ca081dd3",
   "metadata": {
    "ExecuteTime": {
     "end_time": "2021-08-19T00:40:02.905544Z",
     "start_time": "2021-08-19T00:40:02.264Z"
    }
   },
   "outputs": [],
   "source": [
    "api = Ludopedia()"
   ]
  },
  {
   "cell_type": "code",
   "execution_count": null,
   "id": "076ec0a8",
   "metadata": {
    "ExecuteTime": {
     "end_time": "2021-08-19T00:40:02.906163Z",
     "start_time": "2021-08-19T00:40:02.265Z"
    }
   },
   "outputs": [],
   "source": [
    "x = api.buscar_colecao(todos=True)"
   ]
  },
  {
   "cell_type": "code",
   "execution_count": null,
   "id": "1674d3bb",
   "metadata": {
    "ExecuteTime": {
     "end_time": "2021-08-19T00:40:02.906757Z",
     "start_time": "2021-08-19T00:40:02.267Z"
    }
   },
   "outputs": [],
   "source": [
    "df = pd.DataFrame(x)"
   ]
  },
  {
   "cell_type": "markdown",
   "id": "e68f2bbd",
   "metadata": {},
   "source": [
    "## Buscador de preço"
   ]
  },
  {
   "cell_type": "code",
   "execution_count": 5,
   "id": "6bcc401e",
   "metadata": {
    "ExecuteTime": {
     "end_time": "2021-08-19T00:40:05.263363Z",
     "start_time": "2021-08-19T00:40:05.260255Z"
    }
   },
   "outputs": [],
   "source": [
    "import submodules.buscador.src.modules.service as buscador"
   ]
  },
  {
   "cell_type": "code",
   "execution_count": null,
   "id": "cf5ab019",
   "metadata": {
    "ExecuteTime": {
     "end_time": "2021-08-19T00:40:02.907903Z",
     "start_time": "2021-08-19T00:40:02.270Z"
    }
   },
   "outputs": [],
   "source": [
    "comparajogos = buscador.Service()"
   ]
  },
  {
   "cell_type": "code",
   "execution_count": null,
   "id": "defbbf6e",
   "metadata": {
    "ExecuteTime": {
     "end_time": "2021-08-19T00:40:02.908601Z",
     "start_time": "2021-08-19T00:40:02.271Z"
    }
   },
   "outputs": [],
   "source": [
    "jogo = df.loc[1]['nm_jogo']"
   ]
  },
  {
   "cell_type": "code",
   "execution_count": null,
   "id": "d25ebb1d",
   "metadata": {
    "ExecuteTime": {
     "end_time": "2021-08-19T00:40:02.909438Z",
     "start_time": "2021-08-19T00:40:02.273Z"
    }
   },
   "outputs": [],
   "source": [
    "comparajogos.busca_preco_medio(boardgame=jogo)"
   ]
  },
  {
   "cell_type": "code",
   "execution_count": null,
   "id": "a0f7908d",
   "metadata": {
    "ExecuteTime": {
     "end_time": "2021-08-19T00:40:02.910139Z",
     "start_time": "2021-08-19T00:40:02.274Z"
    }
   },
   "outputs": [],
   "source": [
    "comparajogos.busca_preco_medio(boardgame='A Guerra dos Tronos: Board Game')"
   ]
  },
  {
   "cell_type": "code",
   "execution_count": null,
   "id": "d38b4b69",
   "metadata": {},
   "outputs": [],
   "source": []
  },
  {
   "cell_type": "code",
   "execution_count": null,
   "id": "6d1e284e",
   "metadata": {},
   "outputs": [],
   "source": []
  },
  {
   "cell_type": "code",
   "execution_count": null,
   "id": "827d4290",
   "metadata": {},
   "outputs": [],
   "source": []
  },
  {
   "cell_type": "code",
   "execution_count": null,
   "id": "9c3da908",
   "metadata": {},
   "outputs": [],
   "source": []
  },
  {
   "cell_type": "code",
   "execution_count": null,
   "id": "35ca0b4c",
   "metadata": {},
   "outputs": [],
   "source": []
  },
  {
   "cell_type": "code",
   "execution_count": null,
   "id": "c3b99269",
   "metadata": {},
   "outputs": [],
   "source": []
  },
  {
   "cell_type": "code",
   "execution_count": null,
   "id": "31227ac5",
   "metadata": {},
   "outputs": [],
   "source": []
  }
 ],
 "metadata": {
  "hide_input": false,
  "kernelspec": {
   "display_name": "Python 3",
   "language": "python",
   "name": "python3"
  },
  "language_info": {
   "codemirror_mode": {
    "name": "ipython",
    "version": 3
   },
   "file_extension": ".py",
   "mimetype": "text/x-python",
   "name": "python",
   "nbconvert_exporter": "python",
   "pygments_lexer": "ipython3",
   "version": "3.9.6"
  },
  "toc": {
   "base_numbering": 1,
   "nav_menu": {
    "height": "232px",
    "width": "160px"
   },
   "number_sections": true,
   "sideBar": true,
   "skip_h1_title": false,
   "title_cell": "Table of Contents",
   "title_sidebar": "Contents",
   "toc_cell": false,
   "toc_position": {},
   "toc_section_display": true,
   "toc_window_display": false
  },
  "varInspector": {
   "cols": {
    "lenName": 16,
    "lenType": 16,
    "lenVar": 40
   },
   "kernels_config": {
    "python": {
     "delete_cmd_postfix": "",
     "delete_cmd_prefix": "del ",
     "library": "var_list.py",
     "varRefreshCmd": "print(var_dic_list())"
    },
    "r": {
     "delete_cmd_postfix": ") ",
     "delete_cmd_prefix": "rm(",
     "library": "var_list.r",
     "varRefreshCmd": "cat(var_dic_list()) "
    }
   },
   "types_to_exclude": [
    "module",
    "function",
    "builtin_function_or_method",
    "instance",
    "_Feature"
   ],
   "window_display": false
  }
 },
 "nbformat": 4,
 "nbformat_minor": 5
}
