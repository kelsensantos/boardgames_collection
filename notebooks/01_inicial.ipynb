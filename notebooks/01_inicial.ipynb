{
 "cells": [
  {
   "cell_type": "markdown",
   "id": "f7956007",
   "metadata": {},
   "source": [
    "# Imports"
   ]
  },
  {
   "cell_type": "code",
   "execution_count": 9,
   "id": "ff1e3a4a",
   "metadata": {
    "ExecuteTime": {
     "end_time": "2021-08-20T01:26:34.308037Z",
     "start_time": "2021-08-20T01:26:34.304891Z"
    }
   },
   "outputs": [],
   "source": [
    "import pandas as pd\n",
    "import json\n",
    "from decouple import config"
   ]
  },
  {
   "cell_type": "code",
   "execution_count": 10,
   "id": "7bc9bbcc",
   "metadata": {
    "ExecuteTime": {
     "end_time": "2021-08-20T01:26:34.314178Z",
     "start_time": "2021-08-20T01:26:34.310682Z"
    }
   },
   "outputs": [],
   "source": [
    "from fixpath import *\n",
    "from submodules.ludopedia_wrapper.Connection import Connection\n",
    "from submodules.ludopedia_wrapper.Collection import *\n",
    "from submodules.ludopedia_wrapper.Ludopedia_API import Ludopedia"
   ]
  },
  {
   "cell_type": "markdown",
   "id": "8cbf50f2",
   "metadata": {
    "hide_input": false
   },
   "source": [
    "# Tentativa de conexão com API"
   ]
  },
  {
   "cell_type": "markdown",
   "id": "c6a6d6a9",
   "metadata": {},
   "source": [
    "## Config json path"
   ]
  },
  {
   "cell_type": "code",
   "execution_count": 11,
   "id": "2c18613a",
   "metadata": {
    "ExecuteTime": {
     "end_time": "2021-08-20T01:26:34.321758Z",
     "start_time": "2021-08-20T01:26:34.318358Z"
    }
   },
   "outputs": [],
   "source": [
    "json_path = config('APP_CONF_PATH')"
   ]
  },
  {
   "cell_type": "code",
   "execution_count": 12,
   "id": "4f516ae5",
   "metadata": {
    "ExecuteTime": {
     "end_time": "2021-08-20T01:26:34.328230Z",
     "start_time": "2021-08-20T01:26:34.324304Z"
    }
   },
   "outputs": [
    {
     "name": "stderr",
     "output_type": "stream",
     "text": [
      "\u001b[91mError:\u001b[0m Could not load config file on path app_conf.json.\n",
      "Double check the path and make sure it´s a json file.\n",
      "[Errno 2] No such file or directory: 'app_conf.json'\n",
      "\u001b[91mError:\u001b[0m Token not existing or expired. Please run connect method\n"
     ]
    }
   ],
   "source": [
    "conn = Connection()"
   ]
  },
  {
   "cell_type": "markdown",
   "id": "dc04fd05",
   "metadata": {
    "heading_collapsed": true
   },
   "source": [
    "## Buscar jogos "
   ]
  },
  {
   "cell_type": "code",
   "execution_count": 13,
   "id": "9fa726fc",
   "metadata": {
    "ExecuteTime": {
     "end_time": "2021-08-20T01:26:34.332959Z",
     "start_time": "2021-08-20T01:26:34.329892Z"
    },
    "hidden": true
   },
   "outputs": [
    {
     "name": "stderr",
     "output_type": "stream",
     "text": [
      "\u001b[91mError:\u001b[0m Could not load config file on path app_conf.json.\n",
      "Double check the path and make sure it´s a json file.\n",
      "[Errno 2] No such file or directory: 'app_conf.json'\n",
      "\u001b[91mError:\u001b[0m Token not existing or expired. Please run connect method\n"
     ]
    }
   ],
   "source": [
    "con = Connection()"
   ]
  },
  {
   "cell_type": "code",
   "execution_count": 14,
   "id": "25b8d7b0",
   "metadata": {
    "ExecuteTime": {
     "end_time": "2021-08-20T01:26:34.344298Z",
     "start_time": "2021-08-20T01:26:34.335259Z"
    },
    "hidden": true
   },
   "outputs": [
    {
     "ename": "AttributeError",
     "evalue": "'Connection' object has no attribute 'ACCESS_TOKEN'",
     "output_type": "error",
     "traceback": [
      "\u001b[0;31m---------------------------------------------------------------------------\u001b[0m",
      "\u001b[0;31mAttributeError\u001b[0m                            Traceback (most recent call last)",
      "\u001b[0;32m<ipython-input-14-2c4513e37a81>\u001b[0m in \u001b[0;36m<module>\u001b[0;34m\u001b[0m\n\u001b[0;32m----> 1\u001b[0;31m \u001b[0mget_collection\u001b[0m\u001b[0;34m(\u001b[0m\u001b[0mcon\u001b[0m\u001b[0;34m)\u001b[0m\u001b[0;34m\u001b[0m\u001b[0;34m\u001b[0m\u001b[0m\n\u001b[0m",
      "\u001b[0;32m~/OneDrive/Coder/boardgames_collection/submodules/ludopedia_wrapper/Collection.py\u001b[0m in \u001b[0;36mget_collection\u001b[0;34m(conexao, pg)\u001b[0m\n\u001b[1;32m     26\u001b[0m \u001b[0;32mdef\u001b[0m \u001b[0mget_collection\u001b[0m\u001b[0;34m(\u001b[0m\u001b[0mconexao\u001b[0m\u001b[0;34m,\u001b[0m \u001b[0mpg\u001b[0m\u001b[0;34m=\u001b[0m\u001b[0;36m1\u001b[0m\u001b[0;34m)\u001b[0m\u001b[0;34m:\u001b[0m\u001b[0;34m\u001b[0m\u001b[0;34m\u001b[0m\u001b[0m\n\u001b[1;32m     27\u001b[0m     \u001b[0murl\u001b[0m \u001b[0;34m=\u001b[0m \u001b[0;34mf\"https://ludopedia.com.br/api/v1/colecao?lista=colecao&page={pg}\"\u001b[0m\u001b[0;34m\u001b[0m\u001b[0;34m\u001b[0m\u001b[0m\n\u001b[0;32m---> 28\u001b[0;31m     \u001b[0mheaders\u001b[0m \u001b[0;34m=\u001b[0m \u001b[0m_headers\u001b[0m\u001b[0;34m(\u001b[0m\u001b[0mconexao\u001b[0m\u001b[0;34m)\u001b[0m\u001b[0;34m\u001b[0m\u001b[0;34m\u001b[0m\u001b[0m\n\u001b[0m\u001b[1;32m     29\u001b[0m     \u001b[0mresponse\u001b[0m \u001b[0;34m=\u001b[0m \u001b[0mrequests\u001b[0m\u001b[0;34m.\u001b[0m\u001b[0mget\u001b[0m\u001b[0;34m(\u001b[0m\u001b[0murl\u001b[0m\u001b[0;34m,\u001b[0m \u001b[0mheaders\u001b[0m\u001b[0;34m=\u001b[0m\u001b[0mheaders\u001b[0m\u001b[0;34m)\u001b[0m\u001b[0;34m\u001b[0m\u001b[0;34m\u001b[0m\u001b[0m\n\u001b[1;32m     30\u001b[0m     \u001b[0;32mreturn\u001b[0m \u001b[0mjson\u001b[0m\u001b[0;34m.\u001b[0m\u001b[0mloads\u001b[0m\u001b[0;34m(\u001b[0m\u001b[0mresponse\u001b[0m\u001b[0;34m.\u001b[0m\u001b[0mtext\u001b[0m\u001b[0;34m)\u001b[0m\u001b[0;34m\u001b[0m\u001b[0;34m\u001b[0m\u001b[0m\n",
      "\u001b[0;32m~/OneDrive/Coder/boardgames_collection/submodules/ludopedia_wrapper/Collection.py\u001b[0m in \u001b[0;36m_headers\u001b[0;34m(conexao)\u001b[0m\n\u001b[1;32m      9\u001b[0m     headers = {\n\u001b[1;32m     10\u001b[0m             \u001b[0;34m\"Content-type\"\u001b[0m\u001b[0;34m:\u001b[0m \u001b[0;34m\"aplication-json\"\u001b[0m\u001b[0;34m,\u001b[0m\u001b[0;34m\u001b[0m\u001b[0;34m\u001b[0m\u001b[0m\n\u001b[0;32m---> 11\u001b[0;31m             \u001b[0;34m\"Authorization\"\u001b[0m\u001b[0;34m:\u001b[0m \u001b[0;34mf\"Bearer {conexao.ACCESS_TOKEN}\"\u001b[0m\u001b[0;34m\u001b[0m\u001b[0;34m\u001b[0m\u001b[0m\n\u001b[0m\u001b[1;32m     12\u001b[0m         }\n\u001b[1;32m     13\u001b[0m     \u001b[0;32mreturn\u001b[0m \u001b[0mheaders\u001b[0m\u001b[0;34m\u001b[0m\u001b[0;34m\u001b[0m\u001b[0m\n",
      "\u001b[0;31mAttributeError\u001b[0m: 'Connection' object has no attribute 'ACCESS_TOKEN'"
     ]
    }
   ],
   "source": [
    "get_collection(con)"
   ]
  },
  {
   "cell_type": "markdown",
   "id": "ad3e79c9",
   "metadata": {},
   "source": [
    "## Construir nova classe Ludopedia"
   ]
  },
  {
   "cell_type": "markdown",
   "id": "ddb9866c",
   "metadata": {
    "heading_collapsed": true
   },
   "source": [
    "### função para montar url"
   ]
  },
  {
   "cell_type": "code",
   "execution_count": null,
   "id": "59d9d356",
   "metadata": {
    "ExecuteTime": {
     "end_time": "2021-08-20T01:26:34.347481Z",
     "start_time": "2021-08-20T01:26:34.315Z"
    },
    "hidden": true
   },
   "outputs": [],
   "source": [
    "def teste(**kwargs):\n",
    "    url = 'www.xxx.xxx/xxx'\n",
    "    url = teste2(url, **kwargs)\n",
    "    print(url)\n",
    "    \n",
    "def teste2(url, **kwargs):\n",
    "    first = True \n",
    "    for item in kwargs.keys():\n",
    "        complemento = kwargs.get(item)\n",
    "        if first:\n",
    "            url = url + '?' + item + '=' + complemento\n",
    "        else:\n",
    "            url = url + '&' + item + '='  + complemento \n",
    "        first = False\n",
    "    return url"
   ]
  },
  {
   "cell_type": "code",
   "execution_count": null,
   "id": "2a322f78",
   "metadata": {
    "ExecuteTime": {
     "end_time": "2021-08-20T01:26:34.348454Z",
     "start_time": "2021-08-20T01:26:34.317Z"
    },
    "hidden": true
   },
   "outputs": [],
   "source": [
    "teste(at1='a', at2='b')"
   ]
  },
  {
   "cell_type": "markdown",
   "id": "b9ab7046",
   "metadata": {
    "heading_collapsed": true
   },
   "source": [
    "### testando"
   ]
  },
  {
   "cell_type": "code",
   "execution_count": null,
   "id": "37780907",
   "metadata": {
    "ExecuteTime": {
     "end_time": "2021-08-20T01:26:34.349512Z",
     "start_time": "2021-08-20T01:26:34.319Z"
    },
    "hidden": true
   },
   "outputs": [],
   "source": [
    "ludo = Ludopedia()"
   ]
  },
  {
   "cell_type": "code",
   "execution_count": null,
   "id": "6440d012",
   "metadata": {
    "ExecuteTime": {
     "end_time": "2021-08-20T01:26:34.350225Z",
     "start_time": "2021-08-20T01:26:34.320Z"
    },
    "hidden": true
   },
   "outputs": [],
   "source": [
    "ludo.get_endpoint('https://ludopedia.com.br/api/v1/colecao?lista=colegao', page='2')"
   ]
  },
  {
   "cell_type": "markdown",
   "id": "e02d7af1",
   "metadata": {},
   "source": [
    "### buscar todos os jogos"
   ]
  },
  {
   "cell_type": "code",
   "execution_count": null,
   "id": "ca081dd3",
   "metadata": {
    "ExecuteTime": {
     "end_time": "2021-08-20T01:26:34.350975Z",
     "start_time": "2021-08-20T01:26:34.322Z"
    }
   },
   "outputs": [],
   "source": [
    "api = Ludopedia()"
   ]
  },
  {
   "cell_type": "code",
   "execution_count": null,
   "id": "076ec0a8",
   "metadata": {
    "ExecuteTime": {
     "end_time": "2021-08-20T01:26:34.351879Z",
     "start_time": "2021-08-20T01:26:34.323Z"
    }
   },
   "outputs": [],
   "source": [
    "x = api.buscar_colecao(todos=True)"
   ]
  },
  {
   "cell_type": "code",
   "execution_count": null,
   "id": "1674d3bb",
   "metadata": {
    "ExecuteTime": {
     "end_time": "2021-08-20T01:26:34.352768Z",
     "start_time": "2021-08-20T01:26:34.325Z"
    }
   },
   "outputs": [],
   "source": [
    "df = pd.DataFrame(x)"
   ]
  },
  {
   "cell_type": "code",
   "execution_count": null,
   "id": "321a18ac",
   "metadata": {},
   "outputs": [],
   "source": []
  },
  {
   "cell_type": "code",
   "execution_count": null,
   "id": "eaf4fa84",
   "metadata": {},
   "outputs": [],
   "source": []
  },
  {
   "cell_type": "code",
   "execution_count": null,
   "id": "f384b02e",
   "metadata": {},
   "outputs": [],
   "source": []
  },
  {
   "cell_type": "code",
   "execution_count": null,
   "id": "afe95c05",
   "metadata": {},
   "outputs": [],
   "source": []
  },
  {
   "cell_type": "markdown",
   "id": "e68f2bbd",
   "metadata": {},
   "source": [
    "## Buscador de preço"
   ]
  },
  {
   "cell_type": "code",
   "execution_count": 5,
   "id": "6bcc401e",
   "metadata": {
    "ExecuteTime": {
     "end_time": "2021-08-19T00:40:05.263363Z",
     "start_time": "2021-08-19T00:40:05.260255Z"
    }
   },
   "outputs": [],
   "source": [
    "import submodules.buscador.src.modules.service as buscador"
   ]
  },
  {
   "cell_type": "code",
   "execution_count": null,
   "id": "cf5ab019",
   "metadata": {
    "ExecuteTime": {
     "end_time": "2021-08-19T00:40:02.907903Z",
     "start_time": "2021-08-19T00:40:02.270Z"
    }
   },
   "outputs": [],
   "source": [
    "comparajogos = buscador.Service()"
   ]
  },
  {
   "cell_type": "code",
   "execution_count": null,
   "id": "defbbf6e",
   "metadata": {
    "ExecuteTime": {
     "end_time": "2021-08-19T00:40:02.908601Z",
     "start_time": "2021-08-19T00:40:02.271Z"
    }
   },
   "outputs": [],
   "source": [
    "jogo = df.loc[1]['nm_jogo']"
   ]
  },
  {
   "cell_type": "code",
   "execution_count": null,
   "id": "d25ebb1d",
   "metadata": {
    "ExecuteTime": {
     "end_time": "2021-08-19T00:40:02.909438Z",
     "start_time": "2021-08-19T00:40:02.273Z"
    }
   },
   "outputs": [],
   "source": [
    "comparajogos.busca_preco_medio(boardgame=jogo)"
   ]
  },
  {
   "cell_type": "code",
   "execution_count": null,
   "id": "a0f7908d",
   "metadata": {
    "ExecuteTime": {
     "end_time": "2021-08-19T00:40:02.910139Z",
     "start_time": "2021-08-19T00:40:02.274Z"
    }
   },
   "outputs": [],
   "source": [
    "comparajogos.busca_preco_medio(boardgame='A Guerra dos Tronos: Board Game')"
   ]
  },
  {
   "cell_type": "code",
   "execution_count": null,
   "id": "d38b4b69",
   "metadata": {},
   "outputs": [],
   "source": []
  },
  {
   "cell_type": "code",
   "execution_count": null,
   "id": "6d1e284e",
   "metadata": {},
   "outputs": [],
   "source": []
  },
  {
   "cell_type": "code",
   "execution_count": null,
   "id": "827d4290",
   "metadata": {},
   "outputs": [],
   "source": []
  },
  {
   "cell_type": "code",
   "execution_count": null,
   "id": "9c3da908",
   "metadata": {},
   "outputs": [],
   "source": []
  },
  {
   "cell_type": "code",
   "execution_count": null,
   "id": "35ca0b4c",
   "metadata": {},
   "outputs": [],
   "source": []
  },
  {
   "cell_type": "code",
   "execution_count": null,
   "id": "c3b99269",
   "metadata": {},
   "outputs": [],
   "source": []
  },
  {
   "cell_type": "code",
   "execution_count": null,
   "id": "31227ac5",
   "metadata": {},
   "outputs": [],
   "source": []
  }
 ],
 "metadata": {
  "hide_input": false,
  "kernelspec": {
   "display_name": "Python 3",
   "language": "python",
   "name": "python3"
  },
  "language_info": {
   "codemirror_mode": {
    "name": "ipython",
    "version": 3
   },
   "file_extension": ".py",
   "mimetype": "text/x-python",
   "name": "python",
   "nbconvert_exporter": "python",
   "pygments_lexer": "ipython3",
   "version": "3.9.6"
  },
  "toc": {
   "base_numbering": 1,
   "nav_menu": {
    "height": "232px",
    "width": "160px"
   },
   "number_sections": true,
   "sideBar": true,
   "skip_h1_title": false,
   "title_cell": "Table of Contents",
   "title_sidebar": "Contents",
   "toc_cell": false,
   "toc_position": {},
   "toc_section_display": true,
   "toc_window_display": false
  },
  "varInspector": {
   "cols": {
    "lenName": 16,
    "lenType": 16,
    "lenVar": 40
   },
   "kernels_config": {
    "python": {
     "delete_cmd_postfix": "",
     "delete_cmd_prefix": "del ",
     "library": "var_list.py",
     "varRefreshCmd": "print(var_dic_list())"
    },
    "r": {
     "delete_cmd_postfix": ") ",
     "delete_cmd_prefix": "rm(",
     "library": "var_list.r",
     "varRefreshCmd": "cat(var_dic_list()) "
    }
   },
   "types_to_exclude": [
    "module",
    "function",
    "builtin_function_or_method",
    "instance",
    "_Feature"
   ],
   "window_display": false
  }
 },
 "nbformat": 4,
 "nbformat_minor": 5
}
