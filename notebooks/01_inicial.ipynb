{
 "cells": [
  {
   "cell_type": "markdown",
   "id": "f7956007",
   "metadata": {},
   "source": [
    "# Imports"
   ]
  },
  {
   "cell_type": "code",
   "execution_count": 1,
   "id": "ff1e3a4a",
   "metadata": {
    "ExecuteTime": {
     "end_time": "2021-08-18T03:59:20.360854Z",
     "start_time": "2021-08-18T03:59:20.137942Z"
    }
   },
   "outputs": [],
   "source": [
    "import pandas as pd\n",
    "import json\n",
    "from decouple import config"
   ]
  },
  {
   "cell_type": "code",
   "execution_count": 1,
   "id": "7bc9bbcc",
   "metadata": {
    "ExecuteTime": {
     "end_time": "2021-08-18T22:48:44.595148Z",
     "start_time": "2021-08-18T22:48:44.415522Z"
    }
   },
   "outputs": [
    {
     "name": "stdout",
     "output_type": "stream",
     "text": [
      "\u001b[92mSuccess!\u001b[0m ../config/app_conf.json successfully loaded config file for Ludopedia API:\n",
      " APP_ID: 2132c82c63cd864a\n",
      "APP_KEY: 8a01dfda4ef0f2bcc301fe34874b890a\n",
      "ACCESS_TOKEN: 79c94586134f4c507e93b8054e6d08c5\n",
      "CODE_URL: http://localhost:8888\n"
     ]
    },
    {
     "name": "stderr",
     "output_type": "stream",
     "text": [
      "\u001b[91mError:\u001b[0m Token not existing or expired. Please run connect method\n"
     ]
    }
   ],
   "source": [
    "from fixpath import *\n",
    "from submodules.ludopedia_wrapper.Connection import Connection\n",
    "from submodules.ludopedia_wrapper.Collection import *\n",
    "from submodules.ludopedia_wrapper.Ludopedia_API import Ludopedia"
   ]
  },
  {
   "cell_type": "markdown",
   "id": "8cbf50f2",
   "metadata": {
    "hide_input": false
   },
   "source": [
    "# Tentativa de conexão com API"
   ]
  },
  {
   "cell_type": "markdown",
   "id": "c6a6d6a9",
   "metadata": {
    "heading_collapsed": true
   },
   "source": [
    "## Config json path"
   ]
  },
  {
   "cell_type": "code",
   "execution_count": 3,
   "id": "2c18613a",
   "metadata": {
    "ExecuteTime": {
     "end_time": "2021-08-18T03:59:20.514786Z",
     "start_time": "2021-08-18T03:59:20.513074Z"
    },
    "hidden": true
   },
   "outputs": [],
   "source": [
    "json_path = config('APP_CONF_PATH')"
   ]
  },
  {
   "cell_type": "code",
   "execution_count": 4,
   "id": "4f516ae5",
   "metadata": {
    "ExecuteTime": {
     "end_time": "2021-08-18T03:59:20.519137Z",
     "start_time": "2021-08-18T03:59:20.516116Z"
    },
    "hidden": true
   },
   "outputs": [
    {
     "name": "stdout",
     "output_type": "stream",
     "text": [
      "\u001b[92mSuccess!\u001b[0m ../config/app_conf.json successfully loaded config file for Ludopedia API:\n",
      " APP_ID: 2132c82c63cd864a\n",
      "APP_KEY: 8a01dfda4ef0f2bcc301fe34874b890a\n",
      "ACCESS_TOKEN: 79c94586134f4c507e93b8054e6d08c5\n",
      "CODE_URL: http://localhost:8888\n"
     ]
    },
    {
     "name": "stderr",
     "output_type": "stream",
     "text": [
      "\u001b[91mError:\u001b[0m Token not existing or expired. Please run connect method\n"
     ]
    }
   ],
   "source": [
    "conn = Connection()"
   ]
  },
  {
   "cell_type": "markdown",
   "id": "dc04fd05",
   "metadata": {
    "heading_collapsed": true
   },
   "source": [
    "## Buscar jogos "
   ]
  },
  {
   "cell_type": "code",
   "execution_count": 5,
   "id": "9fa726fc",
   "metadata": {
    "ExecuteTime": {
     "end_time": "2021-08-18T03:59:20.523800Z",
     "start_time": "2021-08-18T03:59:20.521012Z"
    },
    "hidden": true
   },
   "outputs": [
    {
     "name": "stdout",
     "output_type": "stream",
     "text": [
      "\u001b[92mSuccess!\u001b[0m ../config/app_conf.json successfully loaded config file for Ludopedia API:\n",
      " APP_ID: 2132c82c63cd864a\n",
      "APP_KEY: 8a01dfda4ef0f2bcc301fe34874b890a\n",
      "ACCESS_TOKEN: 79c94586134f4c507e93b8054e6d08c5\n",
      "CODE_URL: http://localhost:8888\n"
     ]
    },
    {
     "name": "stderr",
     "output_type": "stream",
     "text": [
      "\u001b[91mError:\u001b[0m Token not existing or expired. Please run connect method\n"
     ]
    }
   ],
   "source": [
    "con = Connection()"
   ]
  },
  {
   "cell_type": "code",
   "execution_count": 6,
   "id": "25b8d7b0",
   "metadata": {
    "ExecuteTime": {
     "end_time": "2021-08-18T03:59:20.931803Z",
     "start_time": "2021-08-18T03:59:20.524755Z"
    },
    "hidden": true
   },
   "outputs": [
    {
     "data": {
      "text/plain": [
       "{'colecao': [{'nm_jogo': 'The Castles of Burgundy: 9th Expansion – The Team Game',\n",
       "   'id_jogo': 16512,\n",
       "   'thumb': 'https://storage.googleapis.com/ludopedia-capas/16512_t.jpg',\n",
       "   'link': 'https://www.ludopedia.com.br/jogo/the-castles-of-burgundy-9th-expansion-the-team-game',\n",
       "   'fl_tem': 1,\n",
       "   'fl_quer': 0,\n",
       "   'fl_jogou': 0,\n",
       "   'fl_teve': 0,\n",
       "   'fl_favorito': 0,\n",
       "   'vl_nota': None,\n",
       "   'comentario': None,\n",
       "   'qt_partidas': None,\n",
       "   'comentario_privado': None,\n",
       "   'vl_custo': 50},\n",
       "  {'nm_jogo': 'Gloomhaven: Círculos Esquecidos',\n",
       "   'id_jogo': 17881,\n",
       "   'thumb': 'https://storage.googleapis.com/ludopedia-capas/17881_t.jpg',\n",
       "   'link': 'https://www.ludopedia.com.br/jogo/gloomhaven-forgotten-circles',\n",
       "   'fl_tem': 1,\n",
       "   'fl_quer': 0,\n",
       "   'fl_jogou': 0,\n",
       "   'fl_teve': 0,\n",
       "   'fl_favorito': 0,\n",
       "   'vl_nota': None,\n",
       "   'comentario': None,\n",
       "   'qt_partidas': None,\n",
       "   'comentario_privado': None,\n",
       "   'vl_custo': 265},\n",
       "  {'nm_jogo': 'Brazil: Imperial',\n",
       "   'id_jogo': 14346,\n",
       "   'thumb': 'https://storage.googleapis.com/ludopedia-capas/14346_t.jpg',\n",
       "   'link': 'https://www.ludopedia.com.br/jogo/brazil-imperial',\n",
       "   'fl_tem': 1,\n",
       "   'fl_quer': 0,\n",
       "   'fl_jogou': 0,\n",
       "   'fl_teve': 0,\n",
       "   'fl_favorito': 0,\n",
       "   'vl_nota': None,\n",
       "   'comentario': None,\n",
       "   'qt_partidas': None,\n",
       "   'comentario_privado': None,\n",
       "   'vl_custo': 472.39},\n",
       "  {'nm_jogo': 'Vast: As Cavernas de Cristal',\n",
       "   'id_jogo': 10976,\n",
       "   'thumb': 'https://storage.googleapis.com/ludopedia-capas/10976_t.jpg',\n",
       "   'link': 'https://www.ludopedia.com.br/jogo/vast-the-crystal-caverns',\n",
       "   'fl_tem': 1,\n",
       "   'fl_quer': 0,\n",
       "   'fl_jogou': 0,\n",
       "   'fl_teve': 0,\n",
       "   'fl_favorito': 0,\n",
       "   'vl_nota': None,\n",
       "   'comentario': None,\n",
       "   'qt_partidas': None,\n",
       "   'comentario_privado': None,\n",
       "   'vl_custo': 199.9},\n",
       "  {'nm_jogo': 'When I Dream',\n",
       "   'id_jogo': 14362,\n",
       "   'thumb': 'https://storage.googleapis.com/ludopedia-capas/14362_t.jpg',\n",
       "   'link': 'https://www.ludopedia.com.br/jogo/when-i-dream',\n",
       "   'fl_tem': 1,\n",
       "   'fl_quer': 0,\n",
       "   'fl_jogou': 0,\n",
       "   'fl_teve': 0,\n",
       "   'fl_favorito': 0,\n",
       "   'vl_nota': None,\n",
       "   'comentario': None,\n",
       "   'qt_partidas': None,\n",
       "   'comentario_privado': None,\n",
       "   'vl_custo': None},\n",
       "  {'nm_jogo': 'As Viagens de Marco Polo',\n",
       "   'id_jogo': 7333,\n",
       "   'thumb': 'https://storage.googleapis.com/ludopedia-capas/7333_t.jpg',\n",
       "   'link': 'https://www.ludopedia.com.br/jogo/the-voyages-of-marco-polo',\n",
       "   'fl_tem': 1,\n",
       "   'fl_quer': 0,\n",
       "   'fl_jogou': 0,\n",
       "   'fl_teve': 0,\n",
       "   'fl_favorito': 0,\n",
       "   'vl_nota': None,\n",
       "   'comentario': None,\n",
       "   'qt_partidas': None,\n",
       "   'comentario_privado': None,\n",
       "   'vl_custo': None},\n",
       "  {'nm_jogo': 'Maracaibo',\n",
       "   'id_jogo': 21822,\n",
       "   'thumb': 'https://storage.googleapis.com/ludopedia-capas/21822_t.jpg',\n",
       "   'link': 'https://www.ludopedia.com.br/jogo/maracaibo',\n",
       "   'fl_tem': 1,\n",
       "   'fl_quer': 0,\n",
       "   'fl_jogou': 0,\n",
       "   'fl_teve': 0,\n",
       "   'fl_favorito': 0,\n",
       "   'vl_nota': None,\n",
       "   'comentario': None,\n",
       "   'qt_partidas': None,\n",
       "   'comentario_privado': None,\n",
       "   'vl_custo': None},\n",
       "  {'nm_jogo': 'Root',\n",
       "   'id_jogo': 15950,\n",
       "   'thumb': 'https://storage.googleapis.com/ludopedia-capas/15950_t.jpg',\n",
       "   'link': 'https://www.ludopedia.com.br/jogo/root',\n",
       "   'fl_tem': 1,\n",
       "   'fl_quer': 0,\n",
       "   'fl_jogou': 0,\n",
       "   'fl_teve': 0,\n",
       "   'fl_favorito': 0,\n",
       "   'vl_nota': None,\n",
       "   'comentario': None,\n",
       "   'qt_partidas': None,\n",
       "   'comentario_privado': None,\n",
       "   'vl_custo': None},\n",
       "  {'nm_jogo': 'Keyflower',\n",
       "   'id_jogo': 305,\n",
       "   'thumb': 'https://storage.googleapis.com/ludopedia-capas/305_t.jpg',\n",
       "   'link': 'https://www.ludopedia.com.br/jogo/keyflower',\n",
       "   'fl_tem': 1,\n",
       "   'fl_quer': 0,\n",
       "   'fl_jogou': 0,\n",
       "   'fl_teve': 0,\n",
       "   'fl_favorito': 0,\n",
       "   'vl_nota': None,\n",
       "   'comentario': None,\n",
       "   'qt_partidas': None,\n",
       "   'comentario_privado': None,\n",
       "   'vl_custo': None},\n",
       "  {'nm_jogo': 'Ticket to Ride: Europa',\n",
       "   'id_jogo': 133,\n",
       "   'thumb': 'https://storage.googleapis.com/ludopedia-capas/133_t.jpg',\n",
       "   'link': 'https://www.ludopedia.com.br/jogo/ticket-to-ride-europe',\n",
       "   'fl_tem': 1,\n",
       "   'fl_quer': 0,\n",
       "   'fl_jogou': 0,\n",
       "   'fl_teve': 0,\n",
       "   'fl_favorito': 0,\n",
       "   'vl_nota': None,\n",
       "   'comentario': None,\n",
       "   'qt_partidas': None,\n",
       "   'comentario_privado': None,\n",
       "   'vl_custo': None},\n",
       "  {'nm_jogo': 'Mage Knight: Edição Definitiva',\n",
       "   'id_jogo': 17559,\n",
       "   'thumb': 'https://storage.googleapis.com/ludopedia-capas/17559_t.jpg',\n",
       "   'link': 'https://www.ludopedia.com.br/jogo/mage-knight-ultimate-edition',\n",
       "   'fl_tem': 1,\n",
       "   'fl_quer': 0,\n",
       "   'fl_jogou': 0,\n",
       "   'fl_teve': 0,\n",
       "   'fl_favorito': 0,\n",
       "   'vl_nota': None,\n",
       "   'comentario': None,\n",
       "   'qt_partidas': None,\n",
       "   'comentario_privado': None,\n",
       "   'vl_custo': None},\n",
       "  {'nm_jogo': 'Rialto',\n",
       "   'id_jogo': 485,\n",
       "   'thumb': 'https://storage.googleapis.com/ludopedia-capas/485_t.jpg',\n",
       "   'link': 'https://www.ludopedia.com.br/jogo/rialto',\n",
       "   'fl_tem': 1,\n",
       "   'fl_quer': 0,\n",
       "   'fl_jogou': 0,\n",
       "   'fl_teve': 0,\n",
       "   'fl_favorito': 0,\n",
       "   'vl_nota': None,\n",
       "   'comentario': None,\n",
       "   'qt_partidas': None,\n",
       "   'comentario_privado': None,\n",
       "   'vl_custo': None},\n",
       "  {'nm_jogo': 'Dobble',\n",
       "   'id_jogo': 3857,\n",
       "   'thumb': 'https://storage.googleapis.com/ludopedia-capas/3857_t.jpg',\n",
       "   'link': 'https://www.ludopedia.com.br/jogo/dobble-spot-it',\n",
       "   'fl_tem': 1,\n",
       "   'fl_quer': 0,\n",
       "   'fl_jogou': 1,\n",
       "   'fl_teve': 0,\n",
       "   'fl_favorito': 0,\n",
       "   'vl_nota': 9,\n",
       "   'comentario': 'Não dava nada por esse jogo, mas é muito divertido. Dá para jogar na mesa do bar. ',\n",
       "   'qt_partidas': None,\n",
       "   'comentario_privado': None,\n",
       "   'vl_custo': None},\n",
       "  {'nm_jogo': 'Gloomhaven',\n",
       "   'id_jogo': 8624,\n",
       "   'thumb': 'https://storage.googleapis.com/ludopedia-capas/8624_t.jpg',\n",
       "   'link': 'https://www.ludopedia.com.br/jogo/gloomhaven',\n",
       "   'fl_tem': 1,\n",
       "   'fl_quer': 0,\n",
       "   'fl_jogou': 0,\n",
       "   'fl_teve': 0,\n",
       "   'fl_favorito': 0,\n",
       "   'vl_nota': None,\n",
       "   'comentario': None,\n",
       "   'qt_partidas': None,\n",
       "   'comentario_privado': None,\n",
       "   'vl_custo': None},\n",
       "  {'nm_jogo': \"Sid Meier's Civilization: Um Novo Amanhecer\",\n",
       "   'id_jogo': 14926,\n",
       "   'thumb': 'https://storage.googleapis.com/ludopedia-capas/14926_t.jpg',\n",
       "   'link': 'https://www.ludopedia.com.br/jogo/sid-meier-s-civilization-a-new-dawn',\n",
       "   'fl_tem': 1,\n",
       "   'fl_quer': 0,\n",
       "   'fl_jogou': 0,\n",
       "   'fl_teve': 0,\n",
       "   'fl_favorito': 0,\n",
       "   'vl_nota': 8,\n",
       "   'comentario': 'Ótimo jogo de estratégia. Conseguiu captar bem a experiência civilization. De início achei meio sem graça, mas terminamos jogando três partidas quando pegamos o espírito. ',\n",
       "   'qt_partidas': None,\n",
       "   'comentario_privado': None,\n",
       "   'vl_custo': None},\n",
       "  {'nm_jogo': 'Tash-Kalar: Arena of Legends',\n",
       "   'id_jogo': 1865,\n",
       "   'thumb': 'https://storage.googleapis.com/ludopedia-capas/1865_t.jpg',\n",
       "   'link': 'https://www.ludopedia.com.br/jogo/tash-kalar-arena-of-legends',\n",
       "   'fl_tem': 1,\n",
       "   'fl_quer': 0,\n",
       "   'fl_jogou': 0,\n",
       "   'fl_teve': 0,\n",
       "   'fl_favorito': 0,\n",
       "   'vl_nota': 10,\n",
       "   'comentario': 'Excelente!!! O melhor duelo da história.',\n",
       "   'qt_partidas': None,\n",
       "   'comentario_privado': None,\n",
       "   'vl_custo': None},\n",
       "  {'nm_jogo': 'Terra Mystica: Os Mercadores',\n",
       "   'id_jogo': 22242,\n",
       "   'thumb': 'https://storage.googleapis.com/ludopedia-capas/22242_t.jpg',\n",
       "   'link': 'https://www.ludopedia.com.br/jogo/terra-mystica-merchants-of-the-seas',\n",
       "   'fl_tem': 1,\n",
       "   'fl_quer': 0,\n",
       "   'fl_jogou': 0,\n",
       "   'fl_teve': 0,\n",
       "   'fl_favorito': 0,\n",
       "   'vl_nota': None,\n",
       "   'comentario': None,\n",
       "   'qt_partidas': None,\n",
       "   'comentario_privado': None,\n",
       "   'vl_custo': None},\n",
       "  {'nm_jogo': 'Ticket to Ride: New York',\n",
       "   'id_jogo': 18431,\n",
       "   'thumb': 'https://storage.googleapis.com/ludopedia-capas/18431_t.jpg',\n",
       "   'link': 'https://www.ludopedia.com.br/jogo/ticket-to-ride-new-york',\n",
       "   'fl_tem': 1,\n",
       "   'fl_quer': 0,\n",
       "   'fl_jogou': 0,\n",
       "   'fl_teve': 0,\n",
       "   'fl_favorito': 0,\n",
       "   'vl_nota': 3,\n",
       "   'comentario': 'Fuleira. É um ticket to ride minúsculo, não sei de onde tiraram essa ideia.',\n",
       "   'qt_partidas': None,\n",
       "   'comentario_privado': None,\n",
       "   'vl_custo': None},\n",
       "  {'nm_jogo': 'Splendor',\n",
       "   'id_jogo': 3607,\n",
       "   'thumb': 'https://storage.googleapis.com/ludopedia-capas/3607_t.jpg',\n",
       "   'link': 'https://www.ludopedia.com.br/jogo/splendor',\n",
       "   'fl_tem': 1,\n",
       "   'fl_quer': 0,\n",
       "   'fl_jogou': 0,\n",
       "   'fl_teve': 0,\n",
       "   'fl_favorito': 0,\n",
       "   'vl_nota': 8,\n",
       "   'comentario': 'Gostei, considero um abstrato de regra simples. Até meu pai aceitou jogar.',\n",
       "   'qt_partidas': None,\n",
       "   'comentario_privado': None,\n",
       "   'vl_custo': None},\n",
       "  {'nm_jogo': 'Pandemic Legacy: 2ª Temporada',\n",
       "   'id_jogo': 14305,\n",
       "   'thumb': 'https://storage.googleapis.com/ludopedia-capas/14305_t.jpg',\n",
       "   'link': 'https://www.ludopedia.com.br/jogo/pandemic-legacy-season-2',\n",
       "   'fl_tem': 1,\n",
       "   'fl_quer': 0,\n",
       "   'fl_jogou': 0,\n",
       "   'fl_teve': 0,\n",
       "   'fl_favorito': 0,\n",
       "   'vl_nota': 10,\n",
       "   'comentario': 'Excelente! Experiência muito boa. Ficamos vidrados no jogo até conseguir terminar a campanha. ',\n",
       "   'qt_partidas': None,\n",
       "   'comentario_privado': None,\n",
       "   'vl_custo': None}],\n",
       " 'total': 124,\n",
       " 'qt_base': 106,\n",
       " 'qt_exp': 18,\n",
       " 'vl_custo_total': 987.29,\n",
       " 'pagina': 1}"
      ]
     },
     "execution_count": 6,
     "metadata": {},
     "output_type": "execute_result"
    }
   ],
   "source": [
    "get_collection(con)"
   ]
  },
  {
   "cell_type": "markdown",
   "id": "ad3e79c9",
   "metadata": {},
   "source": [
    "## Construir nova classe Ludopedia"
   ]
  },
  {
   "cell_type": "markdown",
   "id": "ddb9866c",
   "metadata": {
    "heading_collapsed": true
   },
   "source": [
    "### função para montar url"
   ]
  },
  {
   "cell_type": "code",
   "execution_count": 7,
   "id": "59d9d356",
   "metadata": {
    "ExecuteTime": {
     "end_time": "2021-08-18T03:59:20.938129Z",
     "start_time": "2021-08-18T03:59:20.933646Z"
    },
    "hidden": true
   },
   "outputs": [],
   "source": [
    "def teste(**kwargs):\n",
    "    url = 'www.xxx.xxx/xxx'\n",
    "    url = teste2(url, **kwargs)\n",
    "    print(url)\n",
    "    \n",
    "def teste2(url, **kwargs):\n",
    "    first = True \n",
    "    for item in kwargs.keys():\n",
    "        complemento = kwargs.get(item)\n",
    "        if first:\n",
    "            url = url + '?' + item + '=' + complemento\n",
    "        else:\n",
    "            url = url + '&' + item + '='  + complemento \n",
    "        first = False\n",
    "    return url"
   ]
  },
  {
   "cell_type": "code",
   "execution_count": 8,
   "id": "2a322f78",
   "metadata": {
    "ExecuteTime": {
     "end_time": "2021-08-18T03:59:20.944326Z",
     "start_time": "2021-08-18T03:59:20.941431Z"
    },
    "hidden": true
   },
   "outputs": [
    {
     "name": "stdout",
     "output_type": "stream",
     "text": [
      "www.xxx.xxx/xxx?at1=a&at2=b\n"
     ]
    }
   ],
   "source": [
    "teste(at1='a', at2='b')"
   ]
  },
  {
   "cell_type": "markdown",
   "id": "b9ab7046",
   "metadata": {
    "heading_collapsed": true
   },
   "source": [
    "### testando"
   ]
  },
  {
   "cell_type": "code",
   "execution_count": 9,
   "id": "37780907",
   "metadata": {
    "ExecuteTime": {
     "end_time": "2021-08-18T03:59:20.950110Z",
     "start_time": "2021-08-18T03:59:20.947594Z"
    },
    "hidden": true
   },
   "outputs": [],
   "source": [
    "ludo = Ludopedia()"
   ]
  },
  {
   "cell_type": "code",
   "execution_count": 10,
   "id": "6440d012",
   "metadata": {
    "ExecuteTime": {
     "end_time": "2021-08-18T03:59:21.318046Z",
     "start_time": "2021-08-18T03:59:20.951820Z"
    },
    "hidden": true
   },
   "outputs": [
    {
     "data": {
      "text/plain": [
       "{'colecao': [{'nm_jogo': 'The Castles of Burgundy: 9th Expansion – The Team Game',\n",
       "   'id_jogo': 16512,\n",
       "   'thumb': 'https://storage.googleapis.com/ludopedia-capas/16512_t.jpg',\n",
       "   'link': 'https://www.ludopedia.com.br/jogo/the-castles-of-burgundy-9th-expansion-the-team-game',\n",
       "   'fl_tem': 1,\n",
       "   'fl_quer': 0,\n",
       "   'fl_jogou': 0,\n",
       "   'fl_teve': 0,\n",
       "   'fl_favorito': 0,\n",
       "   'vl_nota': None,\n",
       "   'comentario': None,\n",
       "   'qt_partidas': None,\n",
       "   'comentario_privado': None,\n",
       "   'vl_custo': 50},\n",
       "  {'nm_jogo': 'Gloomhaven: Círculos Esquecidos',\n",
       "   'id_jogo': 17881,\n",
       "   'thumb': 'https://storage.googleapis.com/ludopedia-capas/17881_t.jpg',\n",
       "   'link': 'https://www.ludopedia.com.br/jogo/gloomhaven-forgotten-circles',\n",
       "   'fl_tem': 1,\n",
       "   'fl_quer': 0,\n",
       "   'fl_jogou': 0,\n",
       "   'fl_teve': 0,\n",
       "   'fl_favorito': 0,\n",
       "   'vl_nota': None,\n",
       "   'comentario': None,\n",
       "   'qt_partidas': None,\n",
       "   'comentario_privado': None,\n",
       "   'vl_custo': 265},\n",
       "  {'nm_jogo': 'Brazil: Imperial',\n",
       "   'id_jogo': 14346,\n",
       "   'thumb': 'https://storage.googleapis.com/ludopedia-capas/14346_t.jpg',\n",
       "   'link': 'https://www.ludopedia.com.br/jogo/brazil-imperial',\n",
       "   'fl_tem': 1,\n",
       "   'fl_quer': 0,\n",
       "   'fl_jogou': 0,\n",
       "   'fl_teve': 0,\n",
       "   'fl_favorito': 0,\n",
       "   'vl_nota': None,\n",
       "   'comentario': None,\n",
       "   'qt_partidas': None,\n",
       "   'comentario_privado': None,\n",
       "   'vl_custo': 472.39},\n",
       "  {'nm_jogo': 'Vast: As Cavernas de Cristal',\n",
       "   'id_jogo': 10976,\n",
       "   'thumb': 'https://storage.googleapis.com/ludopedia-capas/10976_t.jpg',\n",
       "   'link': 'https://www.ludopedia.com.br/jogo/vast-the-crystal-caverns',\n",
       "   'fl_tem': 1,\n",
       "   'fl_quer': 0,\n",
       "   'fl_jogou': 0,\n",
       "   'fl_teve': 0,\n",
       "   'fl_favorito': 0,\n",
       "   'vl_nota': None,\n",
       "   'comentario': None,\n",
       "   'qt_partidas': None,\n",
       "   'comentario_privado': None,\n",
       "   'vl_custo': 199.9},\n",
       "  {'nm_jogo': 'When I Dream',\n",
       "   'id_jogo': 14362,\n",
       "   'thumb': 'https://storage.googleapis.com/ludopedia-capas/14362_t.jpg',\n",
       "   'link': 'https://www.ludopedia.com.br/jogo/when-i-dream',\n",
       "   'fl_tem': 1,\n",
       "   'fl_quer': 0,\n",
       "   'fl_jogou': 0,\n",
       "   'fl_teve': 0,\n",
       "   'fl_favorito': 0,\n",
       "   'vl_nota': None,\n",
       "   'comentario': None,\n",
       "   'qt_partidas': None,\n",
       "   'comentario_privado': None,\n",
       "   'vl_custo': None},\n",
       "  {'nm_jogo': 'As Viagens de Marco Polo',\n",
       "   'id_jogo': 7333,\n",
       "   'thumb': 'https://storage.googleapis.com/ludopedia-capas/7333_t.jpg',\n",
       "   'link': 'https://www.ludopedia.com.br/jogo/the-voyages-of-marco-polo',\n",
       "   'fl_tem': 1,\n",
       "   'fl_quer': 0,\n",
       "   'fl_jogou': 0,\n",
       "   'fl_teve': 0,\n",
       "   'fl_favorito': 0,\n",
       "   'vl_nota': None,\n",
       "   'comentario': None,\n",
       "   'qt_partidas': None,\n",
       "   'comentario_privado': None,\n",
       "   'vl_custo': None},\n",
       "  {'nm_jogo': 'Maracaibo',\n",
       "   'id_jogo': 21822,\n",
       "   'thumb': 'https://storage.googleapis.com/ludopedia-capas/21822_t.jpg',\n",
       "   'link': 'https://www.ludopedia.com.br/jogo/maracaibo',\n",
       "   'fl_tem': 1,\n",
       "   'fl_quer': 0,\n",
       "   'fl_jogou': 0,\n",
       "   'fl_teve': 0,\n",
       "   'fl_favorito': 0,\n",
       "   'vl_nota': None,\n",
       "   'comentario': None,\n",
       "   'qt_partidas': None,\n",
       "   'comentario_privado': None,\n",
       "   'vl_custo': None},\n",
       "  {'nm_jogo': 'Root',\n",
       "   'id_jogo': 15950,\n",
       "   'thumb': 'https://storage.googleapis.com/ludopedia-capas/15950_t.jpg',\n",
       "   'link': 'https://www.ludopedia.com.br/jogo/root',\n",
       "   'fl_tem': 1,\n",
       "   'fl_quer': 0,\n",
       "   'fl_jogou': 0,\n",
       "   'fl_teve': 0,\n",
       "   'fl_favorito': 0,\n",
       "   'vl_nota': None,\n",
       "   'comentario': None,\n",
       "   'qt_partidas': None,\n",
       "   'comentario_privado': None,\n",
       "   'vl_custo': None},\n",
       "  {'nm_jogo': 'Keyflower',\n",
       "   'id_jogo': 305,\n",
       "   'thumb': 'https://storage.googleapis.com/ludopedia-capas/305_t.jpg',\n",
       "   'link': 'https://www.ludopedia.com.br/jogo/keyflower',\n",
       "   'fl_tem': 1,\n",
       "   'fl_quer': 0,\n",
       "   'fl_jogou': 0,\n",
       "   'fl_teve': 0,\n",
       "   'fl_favorito': 0,\n",
       "   'vl_nota': None,\n",
       "   'comentario': None,\n",
       "   'qt_partidas': None,\n",
       "   'comentario_privado': None,\n",
       "   'vl_custo': None},\n",
       "  {'nm_jogo': 'Ticket to Ride: Europa',\n",
       "   'id_jogo': 133,\n",
       "   'thumb': 'https://storage.googleapis.com/ludopedia-capas/133_t.jpg',\n",
       "   'link': 'https://www.ludopedia.com.br/jogo/ticket-to-ride-europe',\n",
       "   'fl_tem': 1,\n",
       "   'fl_quer': 0,\n",
       "   'fl_jogou': 0,\n",
       "   'fl_teve': 0,\n",
       "   'fl_favorito': 0,\n",
       "   'vl_nota': None,\n",
       "   'comentario': None,\n",
       "   'qt_partidas': None,\n",
       "   'comentario_privado': None,\n",
       "   'vl_custo': None},\n",
       "  {'nm_jogo': 'Mage Knight: Edição Definitiva',\n",
       "   'id_jogo': 17559,\n",
       "   'thumb': 'https://storage.googleapis.com/ludopedia-capas/17559_t.jpg',\n",
       "   'link': 'https://www.ludopedia.com.br/jogo/mage-knight-ultimate-edition',\n",
       "   'fl_tem': 1,\n",
       "   'fl_quer': 0,\n",
       "   'fl_jogou': 0,\n",
       "   'fl_teve': 0,\n",
       "   'fl_favorito': 0,\n",
       "   'vl_nota': None,\n",
       "   'comentario': None,\n",
       "   'qt_partidas': None,\n",
       "   'comentario_privado': None,\n",
       "   'vl_custo': None},\n",
       "  {'nm_jogo': 'Rialto',\n",
       "   'id_jogo': 485,\n",
       "   'thumb': 'https://storage.googleapis.com/ludopedia-capas/485_t.jpg',\n",
       "   'link': 'https://www.ludopedia.com.br/jogo/rialto',\n",
       "   'fl_tem': 1,\n",
       "   'fl_quer': 0,\n",
       "   'fl_jogou': 0,\n",
       "   'fl_teve': 0,\n",
       "   'fl_favorito': 0,\n",
       "   'vl_nota': None,\n",
       "   'comentario': None,\n",
       "   'qt_partidas': None,\n",
       "   'comentario_privado': None,\n",
       "   'vl_custo': None},\n",
       "  {'nm_jogo': 'Dobble',\n",
       "   'id_jogo': 3857,\n",
       "   'thumb': 'https://storage.googleapis.com/ludopedia-capas/3857_t.jpg',\n",
       "   'link': 'https://www.ludopedia.com.br/jogo/dobble-spot-it',\n",
       "   'fl_tem': 1,\n",
       "   'fl_quer': 0,\n",
       "   'fl_jogou': 1,\n",
       "   'fl_teve': 0,\n",
       "   'fl_favorito': 0,\n",
       "   'vl_nota': 9,\n",
       "   'comentario': 'Não dava nada por esse jogo, mas é muito divertido. Dá para jogar na mesa do bar. ',\n",
       "   'qt_partidas': None,\n",
       "   'comentario_privado': None,\n",
       "   'vl_custo': None},\n",
       "  {'nm_jogo': 'Gloomhaven',\n",
       "   'id_jogo': 8624,\n",
       "   'thumb': 'https://storage.googleapis.com/ludopedia-capas/8624_t.jpg',\n",
       "   'link': 'https://www.ludopedia.com.br/jogo/gloomhaven',\n",
       "   'fl_tem': 1,\n",
       "   'fl_quer': 0,\n",
       "   'fl_jogou': 0,\n",
       "   'fl_teve': 0,\n",
       "   'fl_favorito': 0,\n",
       "   'vl_nota': None,\n",
       "   'comentario': None,\n",
       "   'qt_partidas': None,\n",
       "   'comentario_privado': None,\n",
       "   'vl_custo': None},\n",
       "  {'nm_jogo': \"Sid Meier's Civilization: Um Novo Amanhecer\",\n",
       "   'id_jogo': 14926,\n",
       "   'thumb': 'https://storage.googleapis.com/ludopedia-capas/14926_t.jpg',\n",
       "   'link': 'https://www.ludopedia.com.br/jogo/sid-meier-s-civilization-a-new-dawn',\n",
       "   'fl_tem': 1,\n",
       "   'fl_quer': 0,\n",
       "   'fl_jogou': 0,\n",
       "   'fl_teve': 0,\n",
       "   'fl_favorito': 0,\n",
       "   'vl_nota': 8,\n",
       "   'comentario': 'Ótimo jogo de estratégia. Conseguiu captar bem a experiência civilization. De início achei meio sem graça, mas terminamos jogando três partidas quando pegamos o espírito. ',\n",
       "   'qt_partidas': None,\n",
       "   'comentario_privado': None,\n",
       "   'vl_custo': None},\n",
       "  {'nm_jogo': 'Tash-Kalar: Arena of Legends',\n",
       "   'id_jogo': 1865,\n",
       "   'thumb': 'https://storage.googleapis.com/ludopedia-capas/1865_t.jpg',\n",
       "   'link': 'https://www.ludopedia.com.br/jogo/tash-kalar-arena-of-legends',\n",
       "   'fl_tem': 1,\n",
       "   'fl_quer': 0,\n",
       "   'fl_jogou': 0,\n",
       "   'fl_teve': 0,\n",
       "   'fl_favorito': 0,\n",
       "   'vl_nota': 10,\n",
       "   'comentario': 'Excelente!!! O melhor duelo da história.',\n",
       "   'qt_partidas': None,\n",
       "   'comentario_privado': None,\n",
       "   'vl_custo': None},\n",
       "  {'nm_jogo': 'Terra Mystica: Os Mercadores',\n",
       "   'id_jogo': 22242,\n",
       "   'thumb': 'https://storage.googleapis.com/ludopedia-capas/22242_t.jpg',\n",
       "   'link': 'https://www.ludopedia.com.br/jogo/terra-mystica-merchants-of-the-seas',\n",
       "   'fl_tem': 1,\n",
       "   'fl_quer': 0,\n",
       "   'fl_jogou': 0,\n",
       "   'fl_teve': 0,\n",
       "   'fl_favorito': 0,\n",
       "   'vl_nota': None,\n",
       "   'comentario': None,\n",
       "   'qt_partidas': None,\n",
       "   'comentario_privado': None,\n",
       "   'vl_custo': None},\n",
       "  {'nm_jogo': 'Ticket to Ride: New York',\n",
       "   'id_jogo': 18431,\n",
       "   'thumb': 'https://storage.googleapis.com/ludopedia-capas/18431_t.jpg',\n",
       "   'link': 'https://www.ludopedia.com.br/jogo/ticket-to-ride-new-york',\n",
       "   'fl_tem': 1,\n",
       "   'fl_quer': 0,\n",
       "   'fl_jogou': 0,\n",
       "   'fl_teve': 0,\n",
       "   'fl_favorito': 0,\n",
       "   'vl_nota': 3,\n",
       "   'comentario': 'Fuleira. É um ticket to ride minúsculo, não sei de onde tiraram essa ideia.',\n",
       "   'qt_partidas': None,\n",
       "   'comentario_privado': None,\n",
       "   'vl_custo': None},\n",
       "  {'nm_jogo': 'Splendor',\n",
       "   'id_jogo': 3607,\n",
       "   'thumb': 'https://storage.googleapis.com/ludopedia-capas/3607_t.jpg',\n",
       "   'link': 'https://www.ludopedia.com.br/jogo/splendor',\n",
       "   'fl_tem': 1,\n",
       "   'fl_quer': 0,\n",
       "   'fl_jogou': 0,\n",
       "   'fl_teve': 0,\n",
       "   'fl_favorito': 0,\n",
       "   'vl_nota': 8,\n",
       "   'comentario': 'Gostei, considero um abstrato de regra simples. Até meu pai aceitou jogar.',\n",
       "   'qt_partidas': None,\n",
       "   'comentario_privado': None,\n",
       "   'vl_custo': None},\n",
       "  {'nm_jogo': 'Pandemic Legacy: 2ª Temporada',\n",
       "   'id_jogo': 14305,\n",
       "   'thumb': 'https://storage.googleapis.com/ludopedia-capas/14305_t.jpg',\n",
       "   'link': 'https://www.ludopedia.com.br/jogo/pandemic-legacy-season-2',\n",
       "   'fl_tem': 1,\n",
       "   'fl_quer': 0,\n",
       "   'fl_jogou': 0,\n",
       "   'fl_teve': 0,\n",
       "   'fl_favorito': 0,\n",
       "   'vl_nota': 10,\n",
       "   'comentario': 'Excelente! Experiência muito boa. Ficamos vidrados no jogo até conseguir terminar a campanha. ',\n",
       "   'qt_partidas': None,\n",
       "   'comentario_privado': None,\n",
       "   'vl_custo': None}],\n",
       " 'total': 124,\n",
       " 'qt_base': 106,\n",
       " 'qt_exp': 18,\n",
       " 'vl_custo_total': 987.29,\n",
       " 'pagina': 1}"
      ]
     },
     "execution_count": 10,
     "metadata": {},
     "output_type": "execute_result"
    }
   ],
   "source": [
    "ludo.get_endpoint('https://ludopedia.com.br/api/v1/colecao?lista=colegao', page='2')"
   ]
  },
  {
   "cell_type": "markdown",
   "id": "e02d7af1",
   "metadata": {},
   "source": [
    "### buscar todos os jogos"
   ]
  },
  {
   "cell_type": "code",
   "execution_count": 11,
   "id": "ca081dd3",
   "metadata": {
    "ExecuteTime": {
     "end_time": "2021-08-18T03:59:21.324609Z",
     "start_time": "2021-08-18T03:59:21.320752Z"
    }
   },
   "outputs": [],
   "source": [
    "api = Ludopedia()"
   ]
  },
  {
   "cell_type": "code",
   "execution_count": 12,
   "id": "076ec0a8",
   "metadata": {
    "ExecuteTime": {
     "end_time": "2021-08-18T03:59:22.123768Z",
     "start_time": "2021-08-18T03:59:21.326765Z"
    }
   },
   "outputs": [
    {
     "name": "stdout",
     "output_type": "stream",
     "text": [
      "Obtendo dados de https://ludopedia.com.br/api/v1/colecao?lista=colecao&rows=100&ordem=nome&pg=1 ...\n",
      "Total de páginas: 2\n",
      "Obtendo dados de https://ludopedia.com.br/api/v1/colecao?lista=colecao&rows=100&ordem=nome&pg=2 ...\n"
     ]
    }
   ],
   "source": [
    "x = api.buscar_colecao(todos=True)"
   ]
  },
  {
   "cell_type": "code",
   "execution_count": 14,
   "id": "1674d3bb",
   "metadata": {
    "ExecuteTime": {
     "end_time": "2021-08-18T03:59:37.516674Z",
     "start_time": "2021-08-18T03:59:37.509279Z"
    }
   },
   "outputs": [],
   "source": [
    "df = pd.DataFrame(x)"
   ]
  },
  {
   "cell_type": "markdown",
   "id": "e68f2bbd",
   "metadata": {},
   "source": [
    "## Buscador de preço"
   ]
  },
  {
   "cell_type": "code",
   "execution_count": 16,
   "id": "6bcc401e",
   "metadata": {
    "ExecuteTime": {
     "end_time": "2021-08-18T04:00:14.586483Z",
     "start_time": "2021-08-18T04:00:14.578948Z"
    }
   },
   "outputs": [],
   "source": [
    "import submodules.buscador.src.modules.service as buscador"
   ]
  },
  {
   "cell_type": "code",
   "execution_count": 17,
   "id": "cf5ab019",
   "metadata": {
    "ExecuteTime": {
     "end_time": "2021-08-18T04:00:33.067223Z",
     "start_time": "2021-08-18T04:00:33.064209Z"
    }
   },
   "outputs": [],
   "source": [
    "comparajogos = buscador.Service()"
   ]
  },
  {
   "cell_type": "code",
   "execution_count": 22,
   "id": "defbbf6e",
   "metadata": {
    "ExecuteTime": {
     "end_time": "2021-08-18T04:01:48.356776Z",
     "start_time": "2021-08-18T04:01:48.352811Z"
    }
   },
   "outputs": [],
   "source": [
    "jogo = df.loc[1]['nm_jogo']"
   ]
  },
  {
   "cell_type": "code",
   "execution_count": 23,
   "id": "d25ebb1d",
   "metadata": {
    "ExecuteTime": {
     "end_time": "2021-08-18T04:01:53.200246Z",
     "start_time": "2021-08-18T04:01:52.034492Z"
    }
   },
   "outputs": [
    {
     "data": {
      "text/plain": [
       "{'boardgame': 'A Guerra dos Tronos: Board Game', 'preco': None}"
      ]
     },
     "execution_count": 23,
     "metadata": {},
     "output_type": "execute_result"
    }
   ],
   "source": [
    "comparajogos.busca_preco_medio(boardgame=jogo)"
   ]
  },
  {
   "cell_type": "code",
   "execution_count": 26,
   "id": "a0f7908d",
   "metadata": {
    "ExecuteTime": {
     "end_time": "2021-08-18T04:02:55.779679Z",
     "start_time": "2021-08-18T04:02:54.931441Z"
    }
   },
   "outputs": [
    {
     "data": {
      "text/plain": [
       "{'boardgame': 'A Guerra dos Tronos: Board Game', 'preco': None}"
      ]
     },
     "execution_count": 26,
     "metadata": {},
     "output_type": "execute_result"
    }
   ],
   "source": [
    "comparajogos.busca_preco_medio(boardgame='A Guerra dos Tronos: Board Game')"
   ]
  },
  {
   "cell_type": "code",
   "execution_count": null,
   "id": "d38b4b69",
   "metadata": {},
   "outputs": [],
   "source": []
  },
  {
   "cell_type": "code",
   "execution_count": null,
   "id": "6d1e284e",
   "metadata": {},
   "outputs": [],
   "source": []
  },
  {
   "cell_type": "code",
   "execution_count": null,
   "id": "827d4290",
   "metadata": {},
   "outputs": [],
   "source": []
  },
  {
   "cell_type": "code",
   "execution_count": null,
   "id": "9c3da908",
   "metadata": {},
   "outputs": [],
   "source": []
  },
  {
   "cell_type": "code",
   "execution_count": null,
   "id": "35ca0b4c",
   "metadata": {},
   "outputs": [],
   "source": []
  },
  {
   "cell_type": "code",
   "execution_count": null,
   "id": "c3b99269",
   "metadata": {},
   "outputs": [],
   "source": []
  },
  {
   "cell_type": "code",
   "execution_count": null,
   "id": "31227ac5",
   "metadata": {},
   "outputs": [],
   "source": []
  }
 ],
 "metadata": {
  "hide_input": false,
  "kernelspec": {
   "display_name": "Python 3",
   "language": "python",
   "name": "python3"
  },
  "language_info": {
   "codemirror_mode": {
    "name": "ipython",
    "version": 3
   },
   "file_extension": ".py",
   "mimetype": "text/x-python",
   "name": "python",
   "nbconvert_exporter": "python",
   "pygments_lexer": "ipython3",
   "version": "3.9.6"
  },
  "toc": {
   "base_numbering": 1,
   "nav_menu": {
    "height": "232px",
    "width": "160px"
   },
   "number_sections": true,
   "sideBar": true,
   "skip_h1_title": false,
   "title_cell": "Table of Contents",
   "title_sidebar": "Contents",
   "toc_cell": false,
   "toc_position": {},
   "toc_section_display": true,
   "toc_window_display": false
  },
  "varInspector": {
   "cols": {
    "lenName": 16,
    "lenType": 16,
    "lenVar": 40
   },
   "kernels_config": {
    "python": {
     "delete_cmd_postfix": "",
     "delete_cmd_prefix": "del ",
     "library": "var_list.py",
     "varRefreshCmd": "print(var_dic_list())"
    },
    "r": {
     "delete_cmd_postfix": ") ",
     "delete_cmd_prefix": "rm(",
     "library": "var_list.r",
     "varRefreshCmd": "cat(var_dic_list()) "
    }
   },
   "types_to_exclude": [
    "module",
    "function",
    "builtin_function_or_method",
    "instance",
    "_Feature"
   ],
   "window_display": false
  }
 },
 "nbformat": 4,
 "nbformat_minor": 5
}
